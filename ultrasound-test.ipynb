{
 "nbformat": 4,
 "nbformat_minor": 2,
 "metadata": {
  "language_info": {
   "name": "python",
   "codemirror_mode": {
    "name": "ipython",
    "version": 3
   },
   "version": "3.7.5-final"
  },
  "orig_nbformat": 2,
  "file_extension": ".py",
  "mimetype": "text/x-python",
  "name": "python",
  "npconvert_exporter": "python",
  "pygments_lexer": "ipython3",
  "version": 3,
  "kernelspec": {
   "name": "python37564bit53b3c9a5d5e44a9493b057f549b5e92b",
   "display_name": "Python 3.7.5 64-bit"
  }
 },
 "cells": [
  {
   "cell_type": "code",
   "execution_count": 1,
   "metadata": {},
   "outputs": [],
   "source": [
    "import h5py\n",
    "import torch\n",
    "from matplotlib import pyplot as plt\n",
    "import os, sys, numpy as np\n",
    "import torch\n",
    "from sononet.utils.util import json_file_to_pyobj\n",
    "from skimage.transform import resize\n",
    "from sononet.models import get_model\n",
    "import cv2"
   ]
  },
  {
   "cell_type": "code",
   "execution_count": 15,
   "metadata": {},
   "outputs": [],
   "source": [
    "class HiddenPrints:\n",
    "    def __enter__(self):\n",
    "        self._original_stdout = sys.stdout\n",
    "        sys.stdout = None\n",
    "\n",
    "    def __exit__(self, exc_type, exc_val, exc_tb):\n",
    "        sys.stdout = self._original_stdout\n",
    "\n",
    "\n",
    "def crop_image(image, crop_range):\n",
    "    return image[crop_range[0][0]:crop_range[0][1], crop_range[1][0]:crop_range[1][1], ...]\n",
    "\n",
    "\n",
    "def image_loader(image_name, image_size):\n",
    "    \"\"\"load image, returns cuda tensor\"\"\"\n",
    "    image = cv2.imread(image_name)\n",
    "    image= cv2.cvtColor(image, cv2.COLOR_RGB2GRAY)\n",
    "    im_array = resize(image, (int(image_size[0]), int(image_size[1] )), preserve_range=True)\n",
    "    image_T = torch.from_numpy(im_array)\n",
    "    image_T = image_T.type(torch.FloatTensor)\n",
    "    image_T = image_T.unsqueeze(0)\n",
    "    image_T = image_T.unsqueeze(0)\n",
    "    image_T_norm = image_T.sub(image_T.mean()).div(image_T.std())\n",
    "    return image_T_norm.cuda()\n",
    "\n",
    "\n",
    "def test_image(image):\n",
    "        model.set_input(image)\n",
    "        model.net.eval()\n",
    "        with torch.no_grad():\n",
    "            model.forward(split='test')\n",
    "        scores = model.logits.data[0].cpu()\n",
    "        scores = scores.numpy()\n",
    "        pr_lbls = model.pred[1].item()\n",
    "        return scores, pr_lbls"
   ]
  },
  {
   "cell_type": "code",
   "execution_count": 5,
   "metadata": {},
   "outputs": [],
   "source": [
    "checkpoint_file = 'sononet/checkpoints/300_net_S.pth'\n",
    "json_filename = 'sononet/config_sononet_8.json'\n",
    "json_opts = json_file_to_pyobj(json_filename)"
   ]
  },
  {
   "cell_type": "code",
   "execution_count": 6,
   "metadata": {},
   "outputs": [
    {
     "name": "stdout",
     "output_type": "stream",
     "text": "=> Loaded checkpoint 'sononet/checkpoints/300_net_S.pth'\n"
    }
   ],
   "source": [
    "with HiddenPrints():\n",
    "    model = get_model(json_opts.model)\n",
    "\n",
    "if hasattr(model.net, 'deep_supervised'):\n",
    "    model.net.deep_supervised = False\n",
    "\n",
    "    # Load checkpoint\n",
    "if os.path.isfile(checkpoint_file):\n",
    "    checkpoint = torch.load(checkpoint_file)\n",
    "    model.net.load_state_dict(checkpoint)\n",
    "    print(\"=> Loaded checkpoint '{}'\".format(checkpoint_file))\n",
    "else:\n",
    "    print(\"=> No checkpoint found at '{}'!!!!!!\".format(checkpoint_file))"
   ]
  },
  {
   "cell_type": "code",
   "execution_count": 16,
   "metadata": {},
   "outputs": [],
   "source": [
    "foo = h5py.File('data/image_inp_224x288.hdf5')"
   ]
  },
  {
   "cell_type": "code",
   "execution_count": 17,
   "metadata": {},
   "outputs": [],
   "source": [
    "bar = torch.from_numpy(foo['images_test'][901,0]).float()"
   ]
  },
  {
   "cell_type": "code",
   "execution_count": 18,
   "metadata": {},
   "outputs": [],
   "source": [
    "image = bar.unsqueeze(0).unsqueeze(0).sub(bar.mean()).div(bar.std())"
   ]
  },
  {
   "cell_type": "code",
   "execution_count": 19,
   "metadata": {},
   "outputs": [
    {
     "data": {
      "text/plain": "(array([7.24119809e-06, 5.76486018e-05, 9.37142904e-05, 2.02036276e-03,\n        4.81211841e-02, 9.47071791e-01, 2.20068311e-03, 3.98239354e-05,\n        6.35359829e-05, 1.51838285e-05, 2.17778594e-04, 9.88415104e-06,\n        5.48396456e-05, 2.63970269e-05], dtype=float32), 5)"
     },
     "execution_count": 19,
     "metadata": {},
     "output_type": "execute_result"
    }
   ],
   "source": [
    "test_image(image)"
   ]
  }
 ]
}