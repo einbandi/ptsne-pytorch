{
 "cells": [
  {
   "cell_type": "code",
   "execution_count": null,
   "metadata": {},
   "outputs": [],
   "source": [
    "import torch\n",
    "import numpy as np\n",
    "from matplotlib import pyplot as plt"
   ]
  },
  {
   "cell_type": "code",
   "execution_count": null,
   "metadata": {},
   "outputs": [],
   "source": [
    "def rescale(vec):\n",
    "    min_val = vec.min()\n",
    "    max_val = vec.max()\n",
    "    if min_val == max_val:\n",
    "        return torch.zeros_like(vec)\n",
    "    else:\n",
    "        return (vec - min_val) / (max_val - min_val)"
   ]
  },
  {
   "cell_type": "code",
   "execution_count": null,
   "metadata": {},
   "outputs": [],
   "source": [
    "def sparse_vector_field(coords, vecs, x_dim=100, y_dim=100):\n",
    "    x, y = coords.t()\n",
    "    x = rescale(x) * (x_dim - 1)\n",
    "    y = rescale(y) * (y_dim - 1)\n",
    "\n",
    "    indices = torch.stack([x.round().long(), y.round().long()]).t()\n",
    "    _, count_indices, counts = np.unique(indices, axis=0, return_inverse=True, return_counts=True)\n",
    "    counts = torch.tensor(counts[count_indices]).unsqueeze(1)\n",
    "\n",
    "    return torch.sparse.FloatTensor(\n",
    "        indices.t(),\n",
    "        vecs / counts,\n",
    "        torch.Size([x_dim, y_dim, 2])\n",
    "    ).coalesce()"
   ]
  },
  {
   "cell_type": "code",
   "execution_count": null,
   "metadata": {},
   "outputs": [],
   "source": [
    "def sparse_vector_field_2(coords, vecs, x_dim=100, y_dim=100):\n",
    "    x, y = coords.t()\n",
    "    x = rescale(x) * (x_dim - 1)\n",
    "    y = rescale(y) * (y_dim - 1)\n",
    "\n",
    "    indices = torch.stack([x.round().long(), y.round().long()]).t()\n",
    "    _, count_indices, counts = np.unique(indices, axis=0, return_inverse=True, return_counts=True)\n",
    "    counts = torch.tensor(counts[count_indices]).unsqueeze(1)\n",
    "\n",
    "    field = torch.zeros((x_dim, y_dim, 2))\n",
    "    for idx, ct, v in zip(indices, counts, vecs):\n",
    "        field[tuple(idx)] += v / ct\n",
    "\n",
    "    return field"
   ]
  },
  {
   "cell_type": "code",
   "execution_count": null,
   "metadata": {},
   "outputs": [],
   "source": [
    "def divergence(coords, vec, x_dim=100,y_dim=100):\n",
    "    vf = sparse_vector_field_2(coords, vec, x_dim=x_dim, y_dim=y_dim)#.to_dense()\n",
    "\n",
    "    mask = vf.eq(torch.zeros_like(vf))\n",
    "    mask = mask[:,:,0] * mask[:,:,1]\n",
    "    mask = mask[1:,1:] + mask[:-1,:-1]\n",
    "    mask = (1 - mask.float())\n",
    "\n",
    "    x1 = vf[:-1,:,0]\n",
    "    x2 = vf[1:,:,0]\n",
    "    x_div = x2 - x1\n",
    "    x_div_sub = x_div[:,:-1] + x_div[:,1:]\n",
    "    if x_div_sub.eq(0.).all():\n",
    "        raise Exception('Not enough samples in x-direction')\n",
    "\n",
    "    y1 = vf[:,:-1,1]\n",
    "    y2 = vf[:,1:,1]\n",
    "    y_div = y2 - y1\n",
    "    y_div_sub = y_div[0:-1,:] + y_div[1:,:]\n",
    "    if y_div_sub.eq(0.).all():\n",
    "        raise Exception('Not enough samples in y-direction')\n",
    "\n",
    "    div = (x_div_sub + y_div_sub) / 2.\n",
    "    \n",
    "    return mask * div"
   ]
  },
  {
   "cell_type": "markdown",
   "execution_count": null,
   "metadata": {},
   "outputs": [],
   "source": [
    "# Tests"
   ]
  },
  {
   "cell_type": "markdown",
   "execution_count": null,
   "metadata": {},
   "outputs": [],
   "source": [
    "## Fixed example"
   ]
  },
  {
   "cell_type": "code",
   "execution_count": null,
   "metadata": {},
   "outputs": [],
   "source": [
    "coords = torch.stack((torch.tensor([0,0,0,1,1,1,2,2,2,3,3,3]), torch.tensor([0,1,2,0,1,2,0,1,2,0,1,2]))).t().float() \n",
    "vecs = torch.stack((torch.tensor([0,1,2,-1,0,1,-4,-3,-2,-9,-8,-7]), torch.tensor([1,10,100,0,9,99,-1,8,98,-2,7,97]))).t().float()\n",
    "#field = sparse_vector_field_2(coords, vecs, x_dim=4, y_dim=4)\n",
    "field = sparse_vector_field_2(coords, vecs, x_dim=6, y_dim=3)\n",
    "field"
   ]
  },
  {
   "cell_type": "markdown",
   "execution_count": null,
   "metadata": {},
   "outputs": [],
   "source": [
    "## F(x,y) = (x, y)"
   ]
  },
  {
   "cell_type": "code",
   "execution_count": null,
   "metadata": {},
   "outputs": [],
   "source": [
    "coords = torch.stack(torch.meshgrid([torch.arange(-50,51), torch.arange(-50,51)])).transpose(0,2).reshape(-1,2).float()"
   ]
  },
  {
   "cell_type": "code",
   "execution_count": null,
   "metadata": {},
   "outputs": [],
   "source": [
    "#rand_idx = np.unique(np.random.randint(0, high=len(coords), size=2000))"
   ]
  },
  {
   "cell_type": "code",
   "execution_count": null,
   "metadata": {},
   "outputs": [],
   "source": [
    "divergence(coords, coords, x_dim=101, y_dim=101)"
   ]
  },
  {
   "cell_type": "code",
   "execution_count": null,
   "metadata": {},
   "outputs": [],
   "source": [
    "#v = torch.rand(10000,2)\n",
    "#c = v.clone()\n",
    "divs = []\n",
    "for i in [10,20,30,40,50,60,70,80,90,100,150,200]:\n",
    "    divs.append(divergence(coords,coords, x_dim=i, y_dim=i).sum() / i**2)"
   ]
  },
  {
   "cell_type": "code",
   "execution_count": null,
   "metadata": {},
   "outputs": [],
   "source": [
    "plt.plot(divs)"
   ]
  },
  {
   "cell_type": "markdown",
   "execution_count": null,
   "metadata": {},
   "outputs": [],
   "source": [
    "## Sparseness of gradient"
   ]
  },
  {
   "cell_type": "code",
   "execution_count": null,
   "metadata": {},
   "outputs": [],
   "source": [
    "v = torch.rand(500,2, requires_grad=True)\n",
    "c = v.clone().detach()\n",
    "field = sparse_vector_field_2(c, 10*v, x_dim=10,y_dim=10)\n",
    "div = divergence(c, 10*v, x_dim=10,y_dim=10)\n",
    "div.sum().backward()\n",
    "grad = v.grad\n",
    "grad"
   ]
  },
  {
   "cell_type": "code",
   "execution_count": null,
   "metadata": {},
   "outputs": [],
   "source": [
    "(grad[:,0].bool() + grad[:,1].bool()).sum().float() / grad.shape[0]"
   ]
  },
  {
   "cell_type": "code",
   "execution_count": null,
   "metadata": {},
   "outputs": [],
   "source": [
    "plt.quiver(c[:,0], c[:,1], v.detach()[:,0], v.detach()[:,1])"
   ]
  },
  {
   "cell_type": "code",
   "execution_count": null,
   "metadata": {},
   "outputs": [],
   "source": [
    "grad_pts = c[(grad[:,0].bool() + grad[:,1].bool())]\n",
    "plt.scatter(grad_pts[:,0], grad_pts[:,1])"
   ]
  },
  {
   "cell_type": "markdown",
   "execution_count": null,
   "metadata": {},
   "outputs": [],
   "source": [
    "## Real data"
   ]
  },
  {
   "cell_type": "code",
   "execution_count": null,
   "metadata": {},
   "outputs": [],
   "source": [
    "coords = np.loadtxt('projected_output_test.csv').reshape(15, 60000, 2)"
   ]
  },
  {
   "cell_type": "code",
   "execution_count": null,
   "metadata": {},
   "outputs": [],
   "source": [
    "coords_ep1 = torch.tensor(coords[1], requires_grad=True)\n",
    "c = torch.tensor(coords[0])\n",
    "v = coords_ep1 - c"
   ]
  },
  {
   "cell_type": "code",
   "execution_count": null,
   "metadata": {},
   "outputs": [],
   "source": [
    "plt.quiver(c[::100,0],c[::100,1],v.detach()[::100,0],v.detach()[::100,1])"
   ]
  },
  {
   "cell_type": "code",
   "execution_count": null,
   "metadata": {},
   "outputs": [],
   "source": [
    "div = divergence(c, v, x_dim=50, y_dim=50)"
   ]
  },
  {
   "cell_type": "code",
   "execution_count": null,
   "metadata": {},
   "outputs": [],
   "source": [
    "plt.imshow(reversed(div.detach().t()))"
   ]
  },
  {
   "cell_type": "code",
   "execution_count": null,
   "metadata": {},
   "outputs": [],
   "source": [
    "div.sum().backward()"
   ]
  },
  {
   "cell_type": "code",
   "execution_count": null,
   "metadata": {},
   "outputs": [],
   "source": [
    "coord_grad = coords_ep1.grad"
   ]
  },
  {
   "cell_type": "code",
   "execution_count": null,
   "metadata": {},
   "outputs": [],
   "source": [
    "coord_grad_pts = coords_ep1.detach()[(coord_grad[:,0].bool() + coord_grad[:,1].bool())]\n",
    "plt.scatter(coord_grad_pts[:,0], coord_grad_pts[:,1])"
   ]
  },
  {
   "cell_type": "code",
   "execution_count": null,
   "metadata": {},
   "outputs": [],
   "source": [
    "coords_ep1 = torch.tensor(coords[1], requires_grad=True)\n",
    "c = torch.tensor(coords[0])\n",
    "v = coords_ep1 - c\n",
    "div = divergence(c, v, x_dim=50, y_dim=50)\n",
    "div.pow(3).sum().backward()"
   ]
  },
  {
   "cell_type": "code",
   "execution_count": null,
   "metadata": {},
   "outputs": [],
   "source": [
    "coord_grad = coords_ep1.grad\n",
    "coord_grad_pts = coords_ep1.detach()[(coord_grad[:,0].bool() + coord_grad[:,1].bool())]\n",
    "plt.scatter(coord_grad_pts[:,0], coord_grad_pts[:,1])"
   ]
  },
  {
   "cell_type": "code",
   "execution_count": null,
   "metadata": {},
   "outputs": [],
   "source": [
    "#TODO: write test vector fields and check if divergence is correct\n",
    "#TODO: integrating divergence yields only boundary terms -> introduce non-linearity?\n",
    "#TODO: "
   ]
  }
 ],
 "metadata": {
  "kernelspec": {
   "display_name": "Python 3",
   "language": "python",
   "name": "python3"
  },
  "language_info": {
   "codemirror_mode": {
    "name": "ipython",
    "version": 3
   },
   "file_extension": ".py",
   "mimetype": "text/x-python",
   "name": "python",
   "nbconvert_exporter": "python",
   "pygments_lexer": "ipython3",
   "version": "3.7.5-final"
  }
 },
 "nbformat": 4,
 "nbformat_minor": 4
}