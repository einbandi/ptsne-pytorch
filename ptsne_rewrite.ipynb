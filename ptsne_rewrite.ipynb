{
 "cells": [
  {
   "cell_type": "code",
   "execution_count": 1,
   "metadata": {},
   "outputs": [],
   "source": [
    "import datetime\n",
    "import torch\n",
    "import torch.nn as nn\n",
    "import torch.nn.functional as F\n",
    "import numpy as np\n",
    "from numba import jit\n",
    "from scipy.spatial.distance import pdist, squareform\n",
    "from scipy.optimize import minimize, root_scalar\n",
    "from pynndescent import NNDescent\n",
    "from scipy.sparse import csr_matrix"
   ]
  },
  {
   "cell_type": "code",
   "execution_count": 2,
   "metadata": {},
   "outputs": [],
   "source": [
    "@jit(cache=False)\n",
    "def entropy(d, beta):\n",
    "    # remove 'cache=False' (only for testing)\n",
    "    x = - d * beta\n",
    "    y = np.exp(x)\n",
    "    ysum = y.sum()\n",
    "    if ysum < 1e-50:\n",
    "        return -1.\n",
    "    else:\n",
    "        factor = - 1/(np.log(2.) * ysum)\n",
    "        return factor * ((y * x) - (y * np.log(ysum))).sum()"
   ]
  },
  {
   "cell_type": "code",
   "execution_count": 3,
   "metadata": {},
   "outputs": [],
   "source": [
    "def p_i(d, beta):\n",
    "    x = - d * beta\n",
    "    y = np.exp(x)\n",
    "    ysum = y.sum()\n",
    "    return y / ysum"
   ]
  },
  {
   "cell_type": "code",
   "execution_count": 4,
   "metadata": {},
   "outputs": [],
   "source": [
    "def find_beta(d, perp, upper_bound=1e6):\n",
    "    return root_scalar(\n",
    "        lambda b: entropy(d, b) - np.log2(perp),\n",
    "        bracket=(0.,upper_bound)\n",
    "    ).root"
   ]
  },
  {
   "cell_type": "code",
   "execution_count": 51,
   "metadata": {},
   "outputs": [],
   "source": [
    "# @jit\n",
    "# def my_cdist(x, y):\n",
    "#     dists = np.empty(len(y), dtype=np.float_)\n",
    "#     for i in range(len(y)):\n",
    "#         dists[i] = np.sum((x - y[i])**2)            \n",
    "#     return dists"
   ]
  },
  {
   "cell_type": "code",
   "execution_count": 7,
   "metadata": {},
   "outputs": [],
   "source": [
    "def my_cdist(x, y):\n",
    "    return np.sum((x-y)**2, axis=1)"
   ]
  },
  {
   "cell_type": "code",
   "execution_count": 67,
   "metadata": {},
   "outputs": [],
   "source": [
    "def p_ij_sym(x, perp, verbose=False):\n",
    "    num_pts = x.shape[0]\n",
    "    k = min(num_pts - 1, int(3 * perp))\n",
    "    index = NNDescent(x)\n",
    "    neighbors = np.empty((num_pts, k-1), dtype=np.int)\n",
    "    p_ij = np.empty((num_pts, k-1))\n",
    "    for i, xi in enumerate(x):\n",
    "        if verbose:\n",
    "            print('Calculating probabilities: {cur}/{tot}'.format(\n",
    "                cur=i, tot=num_pts), end='\\r')\n",
    "        nn, dists = index.query([xi], k)\n",
    "        beta = find_beta(dists[0, 1:], perp)\n",
    "        neighbors[i] = nn[0, 1:]\n",
    "        p_ij[i] = p_i(dists[0, 1:], beta)\n",
    "    row_indices = np.repeat(np.arange(num_pts), k-1)\n",
    "    p = csr_matrix((p_ij.ravel(), (row_indices, neighbors.ravel())))\n",
    "    return (p + p.transpose()) / (2)"
   ]
  },
  {
   "cell_type": "code",
   "execution_count": 62,
   "metadata": {},
   "outputs": [],
   "source": [
    "from torchvision.datasets import MNIST\n",
    "import torchvision.transforms as transforms"
   ]
  },
  {
   "cell_type": "code",
   "execution_count": 63,
   "metadata": {},
   "outputs": [],
   "source": [
    "mnist = MNIST(\n",
    "    './data',\n",
    "    train=True,\n",
    "    download=True,\n",
    "    transform=transforms.ToTensor()\n",
    ")"
   ]
  },
  {
   "cell_type": "code",
   "execution_count": 64,
   "metadata": {},
   "outputs": [],
   "source": [
    "testdata = mnist.data.reshape(-1, 28*28).numpy() / 255."
   ]
  },
  {
   "cell_type": "code",
   "execution_count": 68,
   "metadata": {},
   "outputs": [
    {
     "name": "stdout",
     "output_type": "stream",
     "text": [
      "Wall time: 1min 55slities: 9999/10000\n"
     ]
    }
   ],
   "source": [
    "%time foo = p_ij_sym(testdata[:10000], 100., verbose=True)"
   ]
  },
  {
   "cell_type": "code",
   "execution_count": null,
   "metadata": {},
   "outputs": [],
   "source": []
  }
 ],
 "metadata": {
  "kernelspec": {
   "display_name": "Python 3",
   "language": "python",
   "name": "python3"
  },
  "language_info": {
   "codemirror_mode": {
    "name": "ipython",
    "version": 3
   },
   "file_extension": ".py",
   "mimetype": "text/x-python",
   "name": "python",
   "nbconvert_exporter": "python",
   "pygments_lexer": "ipython3",
   "version": "3.7.4"
  }
 },
 "nbformat": 4,
 "nbformat_minor": 4
}
